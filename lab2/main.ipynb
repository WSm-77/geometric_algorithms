{
 "cells": [
  {
   "cell_type": "markdown",
   "metadata": {},
   "source": [
    "# Otoczka wypukła"
   ]
  },
  {
   "cell_type": "code",
   "execution_count": 241,
   "metadata": {},
   "outputs": [],
   "source": [
    "import numpy as np\n",
    "import pandas as pd\n",
    "from bitalg.tests.test2 import Test\n",
    "from bitalg.visualizer.main import Visualizer"
   ]
  },
  {
   "cell_type": "markdown",
   "metadata": {},
   "source": [
    "### Przykładowe zastosowanie narzędzia do wizualizacji"
   ]
  },
  {
   "cell_type": "code",
   "execution_count": 242,
   "metadata": {},
   "outputs": [],
   "source": [
    "def draw_example_1():\n",
    "    vis = Visualizer()\n",
    "\n",
    "    # point = (x, y)\n",
    "    points = [\n",
    "        (-62.781083483620016, 9.295526540248986),\n",
    "        (-10.543100198806997, -26.080520917553812),\n",
    "        (-81.64932184252287, -74.42163273030921),\n",
    "        (-36.297317058417946, -72.91194239793609),\n",
    "        (37.795092197502356, 57.71110085986143),\n",
    "        (62.511149567563905, -29.172821102708937),\n",
    "        (21.82806671019955, 2.647377124715007),\n",
    "        (-46.24539555503924, 42.65521594922478),\n",
    "        (-77.92302295134137, -7.666110427206263),\n",
    "        (25.85862324263843, 62.49564419388622),\n",
    "        (-27.71649622636616, -67.33453457840331),\n",
    "        (94.83039177581244, -55.52473300629532),\n",
    "        (-26.29675918891381, -51.30150933048958),\n",
    "        (-70.11654929355294, 16.723865705806816),\n",
    "        (26.682887992598097, -65.55763984116587),\n",
    "        (57.03377667841906, -55.56635171240132),\n",
    "        (-16.053624841650247, -42.333295668531456),\n",
    "        (-56.810858686395505, -37.41219002465095),\n",
    "        (15.604076302407279, -24.85779870929437),\n",
    "        (-71.77261869976445, -12.306083264402673),\n",
    "    ]\n",
    "    # line_segment = ((x1, y1), (x2, y2))\n",
    "    line_segments = [\n",
    "        ((-81.64932184252287, -74.42163273030921), (-36.297317058417946, -72.91194239793609)),\n",
    "        ((-36.297317058417946, -72.91194239793609), (26.682887992598097, -65.55763984116587)),\n",
    "        ((26.682887992598097, -65.55763984116587), (94.83039177581244, -55.52473300629532)),\n",
    "        ((94.83039177581244, -55.52473300629532), (37.795092197502356, 57.71110085986143)),\n",
    "        ((37.795092197502356, 57.71110085986143), (25.85862324263843, 62.49564419388622)),\n",
    "        ((25.85862324263843, 62.49564419388622), (-46.24539555503924, 42.65521594922478)),\n",
    "        ((-46.24539555503924, 42.65521594922478), (-70.11654929355294, 16.723865705806816)),\n",
    "        ((-70.11654929355294, 16.723865705806816), (-77.92302295134137, -7.666110427206263)),\n",
    "        ((-77.92302295134137, -7.666110427206263), (-81.64932184252287, -74.42163273030921)),\n",
    "    ]\n",
    "    vis.add_point(points, color=\"green\")\n",
    "    vis.add_line_segment(line_segments, color=\"blue\")\n",
    "    vis.show()"
   ]
  },
  {
   "cell_type": "code",
   "execution_count": 243,
   "metadata": {},
   "outputs": [
    {
     "data": {
      "image/png": "[encoded data removed]",
      "text/plain": [
       "<Figure size 640x480 with 1 Axes>"
      ]
     },
     "metadata": {},
     "output_type": "display_data"
    }
   ],
   "source": [
    "draw_example_1()"
   ]
  },
  {
   "cell_type": "markdown",
   "metadata": {},
   "source": [
    "### Wprowadzenie"
   ]
  },
  {
   "cell_type": "markdown",
   "metadata": {},
   "source": [
    "Czym jest otoczka wypukła?  \n",
    "Podzbiór płaszczyzny $Q$ nazywamy wypukłym iff, gdy dla dowolnej pary punktów $p, q \\in Q$ odcinek $\\overline{pq}$ jest całkowicie zawarty w $Q$.  \n",
    "Otoczka wypukła $\\mathcal{CH}(Q)$ zbioru $Q$ jest najmniejszym wypukłym zbiorem zawierającym $Q$."
   ]
  },
  {
   "cell_type": "markdown",
   "metadata": {},
   "source": [
    "### Zastosowania otoczku wypukłej"
   ]
  },
  {
   "cell_type": "markdown",
   "metadata": {},
   "source": [
    "Otoczki wypukłe - w szczególności otoczki wypukłe w przestrzeni trójwymiarowej - są spotykane w różnych zastosowaniach. Na przykład używa się ich do przyspieszania wykrywania kolizji w animacji komputerowej. Przepuśćmy, że chcemy sprawdzić, czy dwa obiekty $\\mathcal{P_1}$ i $\\mathcal{P_2}$ przecinają się. Jeśli przez większość czasu odpowiedź na to pytanie jest negatywna, to opłaca się następująca strategia. Przybliżamy obiekty przez prostrze obiekty $\\widehat{\\mathcal{P_1}}$ i $\\widehat{\\mathcal{P_2}}$, które zawierały orginały. Jeśli chcemy sprwadzić, czy $\\mathcal{P_1}$ i $\\mathcal{P_2}$ przecinają się, najpierw sprawdzamy, czy przecinają się $\\widehat{\\mathcal{P_1}}$ i $\\widehat{\\mathcal{P_2}}$. Jeśli występuje ten przypadek, to powinniśmy wykonać test na orginalnych obiektach, który jest przepuszczalnie znacznie kosztowniejszy.  \n",
    "Sprawdzanie przecięcia otoczek wypukłych jest bardziej skomplikowane niż dla sfer - choć mimo to łatwiejsze niż dla obiektów niewypukłych - ale otoczki wypukłe mogą dużo lepiej przybliżać większość obiektów."
   ]
  },
  {
   "cell_type": "markdown",
   "metadata": {},
   "source": [
    "## Generowanie losowych punktów na płaszczyźnie "
   ]
  },
  {
   "cell_type": "code",
   "execution_count": 244,
   "metadata": {},
   "outputs": [],
   "source": [
    "import random\n",
    "\n",
    "random.seed(1111)"
   ]
  },
  {
   "cell_type": "markdown",
   "metadata": {},
   "source": [
    "Zapoznaliśmy się i wiemy jak generowac losowe punkty na płaszczyźnie z laboratorium I (współrzędne rzeczywiste typu *double* - podwójna precyzja obliczeń). Przygotuj zestawy punktów, które będzie można użyć jako testowe dla algorytmów obliczania otoczki wypukłej."
   ]
  },
  {
   "cell_type": "markdown",
   "metadata": {},
   "source": [
    "Uzupełnij funkcję ```generate_uniform_points```."
   ]
  },
  {
   "cell_type": "code",
   "execution_count": 245,
   "metadata": {},
   "outputs": [],
   "source": [
    "def generate_uniform_points(left=-100, right=100, n=100):\n",
    "    \"\"\"\n",
    "    Funkcja generuje równomiernie n punktów na kwadwratowym\n",
    "    obszarze od left do right (jednakowo na osi y)\n",
    "    o współrzędnych rzeczywistych\n",
    "    :param left: lewy kraniec przedziału\n",
    "    :param right: prawy kraniec przedziału\n",
    "    :param n: ilość generowanych punktów\n",
    "    :return: tablica punktów w postaci krotek współrzędnych\n",
    "             np. [(x1, y1), (x2, y2), ... (xn, yn)]\n",
    "    \"\"\"\n",
    "\n",
    "    return [(random.uniform(left, right), random.uniform(left, right)) for _ in range(n)]"
   ]
  },
  {
   "cell_type": "markdown",
   "metadata": {},
   "source": [
    "<span style=\"color:red\">Ćw.</span> Wygeneruj $100$ losowych punktów w przestrzeni 2D o współrzędnych z przedziału $x \\in \\langle -100,100 \\rangle$ oraz $y \\in \\langle -100,100\\rangle$."
   ]
  },
  {
   "cell_type": "code",
   "execution_count": 246,
   "metadata": {},
   "outputs": [],
   "source": [
    "points_a = generate_uniform_points(-100, 100, 100)"
   ]
  },
  {
   "cell_type": "markdown",
   "metadata": {},
   "source": [
    "Zwizualizuj wygenerowane punkty."
   ]
  },
  {
   "cell_type": "code",
   "execution_count": 247,
   "metadata": {},
   "outputs": [
    {
     "data": {
      "image/png": "[encoded data removed]",
      "text/plain": [
       "<Figure size 640x480 with 1 Axes>"
      ]
     },
     "metadata": {},
     "output_type": "display_data"
    }
   ],
   "source": [
    "# visualize(points_a)\n",
    "vis = Visualizer()\n",
    "vis.add_point(points_a)\n",
    "vis.show()"
   ]
  },
  {
   "cell_type": "markdown",
   "metadata": {},
   "source": [
    "Uzupełnij funkcję ```generate_circle_points```."
   ]
  },
  {
   "cell_type": "code",
   "execution_count": 248,
   "metadata": {},
   "outputs": [],
   "source": [
    "def generate_circle_points(O, R, n=100):\n",
    "    \"\"\"\n",
    "    Funkcja generuje jednostajnie n punktów na okręgu o środku O i promieniu R\n",
    "    :param O: krotka współrzędnych x, y określająca środek okręgu\n",
    "    :param R: promień okręgu\n",
    "    :param n: ilość generowanych punktów\n",
    "    :return: tablica punktów w postaci krotek współrzędnych\n",
    "    \"\"\"\n",
    "\n",
    "    O_x, O_y = O\n",
    "    points = []\n",
    "    for i in range(n):\n",
    "        t = random.uniform(0, 1)\n",
    "        point_x = R * np.cos(2*np.pi*t) + O_x\n",
    "        point_y = R * np.sin(2*np.pi*t) + O_y\n",
    "        points.append((point_x, point_y))\n",
    "\n",
    "    return points"
   ]
  },
  {
   "cell_type": "markdown",
   "metadata": {},
   "source": [
    "<span style=\"color:red\">Ćw.</span> Wygeneruj $100$ losowych punktów w przestrzeni 2D leżących na okręgu o środku $O = (0,0)$ i promieniu $R = 10$."
   ]
  },
  {
   "cell_type": "code",
   "execution_count": 249,
   "metadata": {},
   "outputs": [],
   "source": [
    "points_b = generate_circle_points((0, 0), 10, 100)"
   ]
  },
  {
   "cell_type": "markdown",
   "metadata": {},
   "source": [
    "Zwizualizuj wygenerowane punkty."
   ]
  },
  {
   "cell_type": "code",
   "execution_count": 250,
   "metadata": {},
   "outputs": [
    {
     "data": {
      "image/png": "[encoded data removed]",
      "text/plain": [
       "<Figure size 640x480 with 1 Axes>"
      ]
     },
     "metadata": {},
     "output_type": "display_data"
    }
   ],
   "source": [
    "# visualize(points_b)\n",
    "vis.clear()\n",
    "vis.axis_equal()\n",
    "vis.add_point(points_b)\n",
    "vis.show()"
   ]
  },
  {
   "cell_type": "markdown",
   "metadata": {},
   "source": [
    "Jak można było zauważyć, to funkcje ```generate_uniform_points``` oraz ```generate_circle_points``` są takie same jak w laboratorium I."
   ]
  },
  {
   "cell_type": "markdown",
   "metadata": {},
   "source": [
    "Uzupełnij funkcję ```generate_rectangle_points```."
   ]
  },
  {
   "cell_type": "code",
   "execution_count": 251,
   "metadata": {},
   "outputs": [],
   "source": [
    "def generate_colinear_point(a, b):\n",
    "    xa, ya = a\n",
    "    xb, yb = b\n",
    "\n",
    "    point = None\n",
    "\n",
    "    # sprawdzamy czy prosta ma równanie parametryczne\n",
    "    if xa != xb:\n",
    "        # wyznaczamy równanie parametryczne y = kx + m\n",
    "        k = (yb - ya) / (xb - xa)\n",
    "        m = ya - (k * xa)\n",
    "\n",
    "\n",
    "        point_x = random.uniform(min(xa, xb), max(xa, xb))\n",
    "        point_y = k * point_x + m\n",
    "        new_point = (point_x, point_y)\n",
    "        point = new_point\n",
    "    else:\n",
    "        point_y = random.uniform(min(ya, yb), max(ya, yb))\n",
    "        point = (xa, point_y)\n",
    "\n",
    "    return point\n",
    "# end def"
   ]
  },
  {
   "cell_type": "code",
   "execution_count": 252,
   "metadata": {},
   "outputs": [],
   "source": [
    "def generate_rectangle_points(a=(-10, -10), b=(10, -10), c=(10, 10), d=(-10, 10), n=100):\n",
    "    '''\n",
    "    Funkcja generuje n punktów na obwodzie prostokąta\n",
    "    o wierzchołkach w punktach a, b, c i d\n",
    "    :param a: lewy-dolny wierzchołek prostokąta\n",
    "    :param b: prawy-dolny wierzchołek prostokąta\n",
    "    :param c: prawy-górny wierzchołek prostokąta\n",
    "    :param d: lewy-górny wierzchołek prostokąta\n",
    "    :param n: ilość generowanych punktów\n",
    "    :return: tablica punktów w postaci krotek współrzędnych\n",
    "    '''\n",
    "\n",
    "    points = []\n",
    "\n",
    "    for _ in range(n):\n",
    "        option = random.randint(1, 4)\n",
    "        if option == 1:\n",
    "            points.append(generate_colinear_point(a, b))\n",
    "        elif option == 2:\n",
    "            points.append(generate_colinear_point(b, c))\n",
    "        elif option == 3:\n",
    "            points.append(generate_colinear_point(c, d))\n",
    "        elif option == 4:\n",
    "            points.append(generate_colinear_point(d, a))\n",
    "\n",
    "    return points\n"
   ]
  },
  {
   "cell_type": "markdown",
   "metadata": {},
   "source": [
    "<span style=\"color:red\">Ćw.</span> Wygeneruj $100$ losowych punktów w przestrzeni 2D leżących na obwodzie prostokąta, którego wyznaczają wierzchołki\n",
    "$(-10,-10), (10,-10), (10,10)$ oraz $(-10,10)$."
   ]
  },
  {
   "cell_type": "code",
   "execution_count": 253,
   "metadata": {},
   "outputs": [],
   "source": [
    "points_c = generate_rectangle_points(\n",
    "    (-10, -10), (10, -10), (10, 10), (-10, 10), 100)"
   ]
  },
  {
   "cell_type": "markdown",
   "metadata": {},
   "source": [
    "Zwizualizuj wygenerowane punkty."
   ]
  },
  {
   "cell_type": "code",
   "execution_count": 254,
   "metadata": {},
   "outputs": [
    {
     "data": {
      "image/png": "[encoded data removed]",
      "text/plain": [
       "<Figure size 640x480 with 1 Axes>"
      ]
     },
     "metadata": {},
     "output_type": "display_data"
    }
   ],
   "source": [
    "# visualize(points_c)\n",
    "vis.clear()\n",
    "vis.axis_equal()\n",
    "vis.add_point(points_c)\n",
    "vis.show()"
   ]
  },
  {
   "cell_type": "markdown",
   "metadata": {},
   "source": [
    "Uzupełnij funkcję ```generate_square_points```."
   ]
  },
  {
   "cell_type": "code",
   "execution_count": 255,
   "metadata": {},
   "outputs": [],
   "source": [
    "def generate_square_points(a=(0, 0), b=(10, 0), c=(10, 10), d=(0, 10),\n",
    "                           axis_n = 25, diag_n = 20):\n",
    "    '''\n",
    "    Funkcja generuje po axis_n punktów na wszystkich bokach kwadratu\n",
    "    leżących na osiach x i y oraz diag_n punktów na\n",
    "    przektąnych kwadratu, którego wyznaczają punkty\n",
    "    a, b, c i d.\n",
    "    :param a: lewy-dolny wierzchołek kwadratu\n",
    "    :param b: prawy-dolny wierzchołek kwadratu\n",
    "    :param c: prawy-górny wierzchołek kwadratu\n",
    "    :param d: lewy-górny wierzchołek kwadratu\n",
    "    :param axis_n: ilość generowanych punktów na każdym\n",
    "                   boku kwadratu równoległych do osi x i y\n",
    "    :param diag_n: ilość generowanych punktów na każdej\n",
    "                   przekątnej kwadratu\n",
    "    :return: tablica punktów w postaci krotek współrzędnych\n",
    "    '''\n",
    "\n",
    "    points = [a, b, c, d]\n",
    "\n",
    "    # wygenerowanie punktów na górnym boku\n",
    "    for _ in range(axis_n):\n",
    "        points.append(generate_colinear_point(a, b))\n",
    "\n",
    "    for _ in range(axis_n):\n",
    "        points.append(generate_colinear_point(b, c))\n",
    "\n",
    "    for _ in range(axis_n):\n",
    "        points.append(generate_colinear_point(c, d))\n",
    "\n",
    "    for _ in range(axis_n):\n",
    "        points.append(generate_colinear_point(d, a))\n",
    "\n",
    "    # wygenerowanie punktów na górnym boku\n",
    "    for _ in range(diag_n):\n",
    "        points.append(generate_colinear_point(a, c))\n",
    "\n",
    "    for _ in range(diag_n):\n",
    "        points.append(generate_colinear_point(b, d))\n",
    "\n",
    "    return points"
   ]
  },
  {
   "cell_type": "markdown",
   "metadata": {},
   "source": [
    "<span style=\"color:red\">Ćw.</span> Wygeneruj losowe punktów w przestrzeni 2D w następujący sposób: po 25 punktów na dwóch bokach kwadratu leżących na osiach i po 20 punktów na przekątnych kwadratu, zawierający punkty wyznaczające kwadrat $(0, 0), (10, 0), (10, 10)$ oraz $(0, 10)$."
   ]
  },
  {
   "cell_type": "code",
   "execution_count": 256,
   "metadata": {},
   "outputs": [],
   "source": [
    "points_d = generate_square_points((0, 0), (10, 0), (10, 10), (0, 10), 25, 20)"
   ]
  },
  {
   "cell_type": "markdown",
   "metadata": {},
   "source": [
    "Zwizualizuj wygenerowane punkty."
   ]
  },
  {
   "cell_type": "code",
   "execution_count": 257,
   "metadata": {},
   "outputs": [
    {
     "data": {
      "image/png": "[encoded data removed]",
      "text/plain": [
       "<Figure size 640x480 with 1 Axes>"
      ]
     },
     "metadata": {},
     "output_type": "display_data"
    }
   ],
   "source": [
    "# visualize(points_d)\n",
    "vis.clear()\n",
    "vis.axis_equal()\n",
    "vis.add_point(points_d)\n",
    "vis.show()"
   ]
  },
  {
   "cell_type": "markdown",
   "metadata": {},
   "source": [
    "## Algorytm Grahama oraz algorytm Jarvisa"
   ]
  },
  {
   "cell_type": "markdown",
   "metadata": {},
   "source": [
    "Po przygotowaniu przykładowych zbiorów danych i ich zwizualizowaniu, chcemy zobaczyć jak buduje się dla nich otoczka wypukła z wykorzystaniem różnych algortymów.  \n",
    "W tych dwóch algorytmach potrzebna będzie funkcja którą już dobrze znamy, czyli funkcja, która sprawdza po której stornie prostej znajduje się punkt.  \n",
    "Dla każdego algorytmu trzeba będzie zaimplementować dwie funkcje obliczające otoczkę wypukłę, ze względu, że jedna z nich będzie miała możliwość wyświetlania kroków postępowania w algorytmie. Druga funkcja będzie uzyteczna do porównywania czasów dla różnych zbiorów danych i względęm algorytmów.  \n",
    "W graficznej funkcji danego algorytmu, jednym kolorem powinny być zaznaczone wszystkie punkty zbioru wyjściowego, drugim kolorem boki aktualne rozpatrywane, a trzecim boki wielokąta otoczki. Po zakończeniu wyznaczania otoczki, wierzchołki otoczki powinny być wyróżnione (osobnym kolorem bądź kształtem).  "
   ]
  },
  {
   "cell_type": "markdown",
   "metadata": {},
   "source": [
    "### Definicja stałych"
   ]
  },
  {
   "cell_type": "code",
   "execution_count": 258,
   "metadata": {},
   "outputs": [],
   "source": [
    "VIS_DEFAULT_COLOR = [\"blue\"]\n",
    "VIS_CONVEX_HULL_COLOR = [\"red\"]\n",
    "INF = float(\"inf\")\n",
    "AFTER_DECIMAL_PRECISION = 10\n",
    "EPS = 10 ** -AFTER_DECIMAL_PRECISION\n",
    "# EPS = 0"
   ]
  },
  {
   "cell_type": "markdown",
   "metadata": {},
   "source": [
    "### Funkcja do wizualizacji otocznki"
   ]
  },
  {
   "cell_type": "code",
   "execution_count": 259,
   "metadata": {},
   "outputs": [],
   "source": [
    "def visualise_hull(points, hullPoints):\n",
    "    vis = Visualizer()\n",
    "    vis.add_point(points)\n",
    "    vis.add_point(hullPoints, color = VIS_CONVEX_HULL_COLOR)\n",
    "    vis.add_line_segment([(hullPoints[i], hullPoints[i+1]) for i in range(len(hullPoints)-1)], color = VIS_CONVEX_HULL_COLOR)\n",
    "    vis.add_line_segment([hullPoints[-1], hullPoints[0]], color = VIS_CONVEX_HULL_COLOR)\n",
    "    vis.show()"
   ]
  },
  {
   "cell_type": "markdown",
   "metadata": {},
   "source": [
    "### Przydatne funkcje ogólne"
   ]
  },
  {
   "cell_type": "code",
   "execution_count": 260,
   "metadata": {},
   "outputs": [],
   "source": [
    "def mat_det_3x3(a, b, c):\n",
    "    \"\"\"\n",
    "    Obliczanie wyznacznika macierzy 3x3 bez użycia funkcji bibliotecznych\n",
    "    :param a: krotka współrzędnych (x, y) pierwszego punktu tworzącego naszą prostą\n",
    "    :param b: krotka współrzędnych (x, y) drugiego punktu tworzącego naszą prostą\n",
    "    :param c: krotka współrzędnych (x, y) punktu, którego położenie względem prostej chcemy znaleźć\n",
    "    :return: wartość wyznacznika macierzy\n",
    "    \"\"\"\n",
    "    ax, ay = a\n",
    "    bx, by = b\n",
    "    cx, cy = c\n",
    "\n",
    "    return ax*by + bx*cy + cx*ay - (by*cx + cy*ax + ay*bx)"
   ]
  },
  {
   "cell_type": "code",
   "execution_count": 261,
   "metadata": {},
   "outputs": [],
   "source": [
    "def orient(a, b, c):\n",
    "    det = mat_det_3x3(a, b, c)\n",
    "    if abs(det) <= EPS:\n",
    "        return 0\n",
    "    elif det > 0:\n",
    "        return 1\n",
    "    else:\n",
    "        return -1"
   ]
  },
  {
   "cell_type": "code",
   "execution_count": 262,
   "metadata": {},
   "outputs": [],
   "source": [
    "def find_point_with_min_y(points):\n",
    "    minX, minY = points[0]\n",
    "\n",
    "    for x, y in points:\n",
    "        if y < minY or (y == minY and x < minX):\n",
    "            minX, minY = x, y\n",
    "\n",
    "    return (minX, minY)"
   ]
  },
  {
   "cell_type": "code",
   "execution_count": 263,
   "metadata": {},
   "outputs": [],
   "source": [
    "def get_vector(beg, end):\n",
    "    begX, begY = beg\n",
    "    endX, endY = end\n",
    "    return (endX - begX, endY - begY)"
   ]
  },
  {
   "cell_type": "code",
   "execution_count": 264,
   "metadata": {},
   "outputs": [],
   "source": [
    "def vectorSquareLength(beg, end):\n",
    "    begX, begY = beg\n",
    "    endX, endY = end\n",
    "    return (endX - begX) ** 2 + (endY - begY) ** 2"
   ]
  },
  {
   "cell_type": "code",
   "execution_count": 265,
   "metadata": {},
   "outputs": [],
   "source": [
    "def dot_product(vec1, vec2):\n",
    "    dotProduct = 0\n",
    "    for i in range(len(vec1)):\n",
    "        dotProduct += vec1[i] * vec2[i]\n",
    "    return dotProduct"
   ]
  },
  {
   "cell_type": "code",
   "execution_count": 266,
   "metadata": {},
   "outputs": [],
   "source": [
    "def get_vector_length(vec):\n",
    "    length = 0\n",
    "    for i in range(len(vec)):\n",
    "        length += vec[i] ** 2\n",
    "    return length ** 0.5"
   ]
  },
  {
   "cell_type": "code",
   "execution_count": 267,
   "metadata": {},
   "outputs": [],
   "source": [
    "def claculate_cos_of_angle(vec1, vec2):\n",
    "    return dot_product(vec1, vec2) / (get_vector_length(vec1) * get_vector_length(vec2))"
   ]
  },
  {
   "cell_type": "markdown",
   "metadata": {},
   "source": [
    "### Algorytm Grahama"
   ]
  },
  {
   "cell_type": "markdown",
   "metadata": {},
   "source": [
    "Algorytm Grahama tworzy otoczkę wypukłą poprzez utrzymywanie stosu $S$, w którym znajdują się punkty, które mogą, ale nie muszą tworzyć otoczki wypukłej. Za każdym razem jest wstawiany na stos (push) jeden punkt z zbioru punktów $Q$ i jest on usuwany ze stosu (pop), jeżeli nie jest punktem $\\mathcal{CH}(Q)$. Kiedy algorytm kończy się, stos $S$ zawiera tylko punkty otoczki wypukłej $\\mathcal{CH}(Q)$ w kierunku przeciwnym do ruchu wskazówek zegera.\n",
    "\n",
    "---\n",
    "\n",
    "Procedura $\\mathtt{Graham-Build(Q)}$ przyjmuje zbiór punktów $Q$, gdzie $|Q| \\geq 3$. Wywołuje ona funkcję $\\mathtt{TOP(S)}$, która zwraca punkt z góry stosu bez zmieniania $S$ oraz\n",
    "$\\mathtt{NEXT-TO-TOP(S)}$, która zwraca punkt ponieżej góry stosu $S$, bez zmieniania stosu. Funkcja $\\mathtt{PUSH(p, S)}$ wstawia punkt $p$ na stos $S$. Funkcja $\\mathtt{POP(p, S)}$ usuwa punkt $p$ ze stosu $S$."
   ]
  },
  {
   "cell_type": "markdown",
   "metadata": {},
   "source": [
    "$\\mathtt{Graham-Build(Q)}$  \n",
    "1)  niech $p_0$ będzie punktem w zbiorze Q z najmniejszą współrzędną $y$,  \n",
    "    oraz najmniejszą współrzędną $x$ w przypadku, gdy wiele punktów ma tą samą współrzędną $x$  \n",
    "    \n",
    "2)  nich $\\mathtt{\\langle p_1, p_2, \\dots, p_m \\rangle}$ będzie pozostałym zbiorem punktów w $Q$ posortowanym  \n",
    "    zgodnie z przeciwnym ruchem wskazówek zegara wokół punktu $p_0$  \n",
    "    (jeżeli więcej niż jeden punkt ma ten sam kąt to usuwamy wszystkie punkty  \n",
    "     z wyjątkiem tego najbardziej oddalonego od $p_0$)  \n",
    "3) stwórz pusty stos $S$  \n",
    "4) $\\mathtt{PUSH(p_0, S)}$\n",
    "5) $\\mathtt{PUSH(p_1, S)}$\n",
    "6) $\\mathtt{PUSH(p_2, S)}$\n",
    "7) **for** $i = 3$ **to** m  \n",
    "8) &emsp;**while** kąt utworzony przez $\\mathtt{NEXT-TO-TOP(S)}$, $\\mathtt{TOP(S)}$ oraz $p_i$ nie tworzy lewostronnego skrętu\n",
    "9) &emsp;&emsp;$\\mathtt{POP(S)}$\n",
    "10) &emsp;$\\mathtt{PUSH(p_i, S)}$\n",
    "11) **return** $S$"
   ]
  },
  {
   "cell_type": "markdown",
   "metadata": {},
   "source": [
    "\n",
    "---\n",
    "\n",
    "Lewostronny skręt oznacza, że dla trzech kolejnych punktów $a, b, c$, punkt $b$ leży po lewej stronie prostej $ac$.  \n",
    "  \n",
    "\n",
    "<span style=\"color:red\">Ćw.</span> Uzupełnij funkcję ```graham_algorithm```, która oblicza otoczkę wypukłą korzystając z algorytmu Grahama."
   ]
  },
  {
   "cell_type": "code",
   "execution_count": 268,
   "metadata": {},
   "outputs": [],
   "source": [
    "def add_cos_and_dist_for_each_point(points, pointWithMinY):\n",
    "    \"\"\"\n",
    "    Wyznaczenie wartości cosinusa oraz odległości dla każdego punktu\n",
    "    :param points: punkty\n",
    "    :return: lista krotek w postaci (-cosinus kąta, odległość, punkt)\n",
    "    \"\"\"\n",
    "    extendedPoints = []\n",
    "\n",
    "    for point in points:\n",
    "        vecLen = (vectorSquareLength(pointWithMinY, point)) ** 0.5\n",
    "        if vecLen == 0:\n",
    "            extendedPoints.append((-1, 0, point))\n",
    "        else:\n",
    "            dx = point[0] - pointWithMinY[0]\n",
    "            cos = dx / vecLen\n",
    "            extendedPoints.append((round(-cos, AFTER_DECIMAL_PRECISION), vecLen, point))\n",
    "\n",
    "    return extendedPoints"
   ]
  },
  {
   "cell_type": "code",
   "execution_count": 269,
   "metadata": {},
   "outputs": [],
   "source": [
    "def filter_colinear_points(sortedExtendedPoints):\n",
    "    filteredPoints = [sortedExtendedPoints[0][2]]\n",
    "\n",
    "\n",
    "    for i in range(2, len(sortedExtendedPoints)):\n",
    "        prevNegativeCos, prevDistance, prevPoint = sortedExtendedPoints[i-1]\n",
    "        negativeCos, distance, point = sortedExtendedPoints[i]\n",
    "        if abs(negativeCos - prevNegativeCos) <= EPS:\n",
    "            continue\n",
    "        filteredPoints.append(prevPoint)\n",
    "\n",
    "    lastNegativeCos, lastDistance, lastPoint = sortedExtendedPoints[-1]\n",
    "    if lastDistance != 0:\n",
    "        filteredPoints.append(lastPoint)\n",
    "\n",
    "    return filteredPoints"
   ]
  },
  {
   "cell_type": "code",
   "execution_count": 270,
   "metadata": {},
   "outputs": [],
   "source": [
    "def graham_algorithm(Q: list[tuple: [float, float]]):\n",
    "    '''\n",
    "    Funkcja buduje otoczkę wypukłą dla podanego\n",
    "    zbioru punktów Q algorymem Grahama\n",
    "    :parm Q: zbiór punktów\n",
    "    :return: tablica punktów w postaci krotek współrzędnych\n",
    "    '''\n",
    "\n",
    "    ###########################################\n",
    "    # znalezienie pierwszego punktu w otoczce #\n",
    "    ###########################################\n",
    "\n",
    "    minPoint = find_point_with_min_y(Q)\n",
    "\n",
    "    # TODO: remove\n",
    "    # print(minPoint)\n",
    "\n",
    "    #################################\n",
    "    # posortowanie punktów po kącie #\n",
    "    #################################\n",
    "\n",
    "    extendedPoints = add_cos_and_dist_for_each_point(Q, minPoint)\n",
    "\n",
    "    extendedPoints.sort(key = lambda x: (x[0], x[1]))\n",
    "\n",
    "    # TODO: remove\n",
    "    # print(extendedPoints)\n",
    "\n",
    "    ###########################################\n",
    "    # odfiltrowanie punktów o tym samym kącie #\n",
    "    ###########################################\n",
    "\n",
    "    filteredPoints = filter_colinear_points(extendedPoints)\n",
    "\n",
    "    # TODO: remove\n",
    "    # print(filteredPoints)\n",
    "\n",
    "    #######################\n",
    "    # znalezienie otoczki #\n",
    "    #######################\n",
    "\n",
    "    filteredPointsListLen = len(filteredPoints)\n",
    "\n",
    "    # umieszczenie pierwszych trzech punktów w otoczce\n",
    "    stack = filteredPoints[:min(3, filteredPointsListLen)]\n",
    "\n",
    "    for i in range(3, filteredPointsListLen):\n",
    "        currPoint = filteredPoints[i]\n",
    "\n",
    "        while len(stack) >= 2 and orient(stack[-2], stack[-1], currPoint) != 1:\n",
    "            stack.pop()\n",
    "\n",
    "        stack.append(currPoint)\n",
    "\n",
    "    return stack"
   ]
  },
  {
   "cell_type": "code",
   "execution_count": 271,
   "metadata": {},
   "outputs": [
    {
     "name": "stdout",
     "output_type": "stream",
     "text": [
      "[(10, 2.3358485026572406), (10, -2.1048653651336906), (5.886576757252659, 10.0), (-10, 5.759513936822936), (-10, -4.0187539703866415), (-10, 9.654336016552833), (-1.9365730813225728, 10.0), (10, 3.273281401871282), (-6.660022640000993, -10.0), (-10, 2.2724206845496973), (-4.172681944025509, 10.0), (-8.622685958858149, 10.0), (-10, 4.694349639787356), (9.039726121158754, -10.0), (10, 5.013819347398913), (-10, -0.04122431400961091), (5.412686130549002, -10.0), (10, -4.720117919848517), (4.602476607597115, 10.0), (2.8638401585417768, -10.0), (3.558774692268493, 10.0), (4.2960337619181885, -10.0), (-10, 5.963071627422691), (-10, 7.955271558161968), (2.979197508447914, 10.0), (7.077796613743345, 10.0), (10, -2.843420419029674), (0.033529519150441445, -10.0), (-2.5419386462499443, -10.0), (10, -0.6944590860902178), (10, 6.547464393931278), (10, 1.0868053643603375), (-9.471578501627828, -10.0), (-10, -8.924338189649452), (-10, -0.20229168583118629), (7.286641400319681, -10.0), (10, -2.4093046743082773), (-10, 9.51069245009915), (-10, -5.910013116513541), (8.448469084654537, -10.0), (-10, 4.5219877344939245), (10, -8.769561908150223), (-10, -3.9377570098914116), (-3.4430264271775, -10.0), (10, 1.1593826249635626), (-10, 0.737648565065248), (10, 3.0365853573906953), (-10, -4.151385657955249), (-10, 4.225018331883279), (9.859304945350345, 10.0), (10, -7.4219381291811), (-10, -6.966771360514472), (-6.257970709782066, -10.0), (10, 6.319519912374684), (-1.4033523506820167, -10.0), (9.368973588562493, -10.0), (7.07491846659514, 10.0), (-10, -7.657149374077006), (6.851082297226949, 10.0), (-8.838519507027181, -10.0), (-10, -2.5638059643004336), (-10, 8.75628754831088), (6.0131644543527365, 10.0), (-5.192980073380387, 10.0), (6.593067715759155, 10.0), (-8.496303240742423, 10.0), (-3.7378323304495886, -10.0), (2.026932644018622, 10.0), (9.768116338986307, -10.0), (-0.40422935912502567, 10.0), (5.388054006026987, 10.0), (8.644524552691319, -10.0), (10, -3.1443136438005066), (-5.838015191256856, -10.0), (10, 9.821562631621262), (-10, -8.585462453359975), (-10, -0.7351726950888278), (5.800011928571125, -10.0), (3.3501313577059104, 10.0), (-4.503139444387556, 10.0), (-7.114923737422272, 10.0), (-10, 7.513590951574525), (10, -8.849057959118854), (-10, -7.259545528371789), (10, 2.1227980195104745), (-6.463150533262647, 10.0), (10, 3.651427856618156), (-6.102925593490516, 10.0), (1.601161623443188, -10.0), (-3.409828833947035, -10.0), (-10, 4.86148160835474), (-4.35877299082696, 10.0), (-0.8886049434616012, 10.0), (10, -3.879501249343937), (-6.526734821262541, 10.0), (-6.898926799169978, 10.0), (10, -2.921601380739201), (-10, 0.8904283074624644), (10, -4.7003316096230785), (-5.326345443742184, 10.0)]\n",
      "[(-9.471578501627828, -10.0), (9.768116338986307, -10.0), (10, -8.849057959118854), (10, 9.821562631621262), (9.859304945350345, 10.0), (-8.622685958858149, 10.0), (-10, 9.654336016552833), (-10, -8.924338189649452)]\n",
      "8\n"
     ]
    }
   ],
   "source": [
    "# TODO: remove\n",
    "\n",
    "# test = graham_algorithm([(3,2), (5,6), (4,4), (1,1)])\n",
    "# points = [(1,1), (2,2), (6,8), (3,3), (4,4), (-1,-1)]\n",
    "# points = [(1,1), (2,2), (3,3), (4,4), (-1,-1)]\n",
    "# points = [(0,0), (0, 5), (1, 2), (3, 7), (4, 2), (5, 0), (5,5)]\n",
    "# points = [(1.0, 1.0), (4.0, 1.0), (4.0, 4.0), (1.0, 4.0)]\n",
    "# points = [(1.0, 1.0), (2.0, 2.0), (50.0, 50.0), (99.0, 99.0), (100.0, 100.0)]\n",
    "# points = [(1.0, 1.0), (5.0, 0.0), (5.0, 1.0), (5.0, 2.0), (5.0, 3.0), (5.0, 4.0), (5.0, 5.0), (5.0, 6.0)]\n",
    "# points_c_sorted = sorted(points_c, key= lambda x: x[1])\n",
    "points_c_sorted = points_c\n",
    "test = graham_algorithm(points_c_sorted)\n",
    "# test = graham_algorithm(points_c_sorted[:5] + points_c_sorted[35:40]  + points_c_sorted[75:80])\n",
    "print(points_c_sorted)\n",
    "print(test)\n",
    "print(len(test))\n"
   ]
  },
  {
   "cell_type": "markdown",
   "metadata": {},
   "source": [
    "Przetestuj swoją implementacje algorytmu Grahama, by sprawdzić czy poprawnie obliczana jest otoczka."
   ]
  },
  {
   "cell_type": "code",
   "execution_count": 272,
   "metadata": {},
   "outputs": [
    {
     "name": "stdout",
     "output_type": "stream",
     "text": [
      "Lab 2, task 1:\n",
      "\tTest 1: Passed\n",
      "\tTest 2: Passed\n",
      "\tTest 3: Passed\n",
      "\tTest 4: Passed\n",
      "\tTest 5: WRONG ANSWER\n",
      "\t\tOutput:   [(-0.00027969503264589635, -0.9999999608853436), (0.0005553495142406567, -0.9999998457934466), (0.0016519268116104392, -0.9999986355679737), (0.002605435221465321, -0.9999966058478933), (0.0030932882850060305, -0.9999952157723485), (0.004228777142265965, -0.9999910586819669), (0.005182331123160356, -0.9999865716319044), (0.005687014754754341, -0.99...\n",
      "\t\tExpected: [(-0.9998456727740328, 0.017567886470535515), (-0.9999066111976357, 0.013666341253615146), (-0.9999097856527912, 0.013432071909764622), (-0.9999131277882609, 0.01318092852180958), (-0.9999151687762107, 0.013025177589655271), (-0.9999236593517755, 0.012356191506870385), (-0.9999295253527812, 0.01187199763146682), (-0.9999341564245192, 0.011475313310...\n",
      "\tTest 6: Passed\n",
      "\tTest 7: Passed\n",
      "\tTest 8: WRONG ANSWER\n",
      "\t\tOutput:   [(3.5192864828680724e-10, -9.999737017848142e-10), (-9.32386421555203e-10, -9.996517072241096e-10)]\n",
      "\t\tExpected: [(-9.99920936032601e-10, 2.3464409643053305e-10), (-9.998478476142415e-10, -6.612378025379458e-10), (-9.982190210924327e-10, -7.364787668757562e-10), (-9.925273310453238e-10, -9.951014364439659e-10), (-9.32386421555203e-10, -9.996517072241096e-10), (3.5192864828680724e-10, -9.999737017848142e-10), (5.695966524614045e-10, -9.999574139117813e-10), (7...\n",
      "\tTest 9: Passed\n",
      "\tTest 10: Passed\n",
      "\tTest 11: WRONG ANSWER\n",
      "\t\tOutput:   [(0.00011007523276019272, -2.9999994065872797), (0.003205856563733592, -2.99999780889628), (0.0056499482822205275, -2.9999945985352667), (0.008046793826696593, -2.9999889944800415), (0.012373573195985466, -2.9999741997664553), (0.015660307476411024, -2.999958758804844), (0.016697932916123863, -2.999953380903317), (0.017361336544461564, -2.999949586...\n",
      "\t\tExpected: [(2.9999978992185663, -2.0927309532067398e-05), (-1.2485375638735479, 2.727839366084395), (-1.2487381694042077, 2.727755468235654), (-1.2497209228588917, 2.7273053789980044), (-1.2534996245091412, 2.725570580378685), (-1.255025545364526, 2.724867969228775), (-1.2565849722682152, 2.7241498478105917), (-1.2578820940938173, 2.7235513889205603), (-1.26...\n",
      "Result: 8/11\n",
      "Time: 2.928s\n"
     ]
    }
   ],
   "source": [
    "Test().runtest(1, graham_algorithm)"
   ]
  },
  {
   "cell_type": "markdown",
   "metadata": {},
   "source": [
    "<span style=\"color:red\">Ćw.</span> Uzupełnij funkcję ```graham_algorithm_draw```, która oblicza otoczkę wypukłą korzystając z algorytmu Grahama z dodatkową opcją wyświetlania kroków algorytmu."
   ]
  },
  {
   "cell_type": "code",
   "execution_count": 273,
   "metadata": {},
   "outputs": [],
   "source": [
    "def graham_algorithm_draw(Q):\n",
    "    '''\n",
    "    Funkcja buduje otoczkę wypukłą dla podanego\n",
    "    zbioru punktów Q algorymem Grahama oraz\n",
    "    pokazuje poszczególne kroki algorymu\n",
    "    :parm Q: zbiór punktów\n",
    "    :return: krotka w postaci (tablica punktów w postaci krotek współrzędnych,\n",
    "                                wizualizer pokazujący kroki algorytmu)\n",
    "    '''\n",
    "\n",
    "    vis = Visualizer()\n",
    "    vis.add_point(Q, color = VIS_DEFAULT_COLOR)\n",
    "\n",
    "    ###########################################\n",
    "    # znalezienie pierwszego punktu w otoczce #\n",
    "    ###########################################\n",
    "\n",
    "    minPoint = find_point_with_min_y(Q)\n",
    "\n",
    "    #################################\n",
    "    # posortowanie punktów po kącie #\n",
    "    #################################\n",
    "\n",
    "    extendedPoints = add_cos_and_dist_for_each_point(Q, minPoint)\n",
    "\n",
    "    extendedPoints.sort(key = lambda x: (x[0], x[1]))\n",
    "\n",
    "    ###########################################\n",
    "    # odfiltrowanie punktów o tym samym kącie #\n",
    "    ###########################################\n",
    "\n",
    "    filteredPoints = filter_colinear_points(extendedPoints)\n",
    "\n",
    "    #######################\n",
    "    # znalezienie otoczki #\n",
    "    #######################\n",
    "\n",
    "    filteredPointsListLen = len(filteredPoints)\n",
    "\n",
    "    # umieszczenie pierwszych trzech punktów w otoczce\n",
    "    visConvexHullPointsStack = [vis.add_point(minPoint, color = VIS_CONVEX_HULL_COLOR)]\n",
    "    visConvexHullLinesStack = []\n",
    "    stack = [minPoint]\n",
    "    for point in filteredPoints[1:min(3, filteredPointsListLen)]:\n",
    "        stack.append(point)\n",
    "        visConvexHullPointsStack.append(vis.add_point(point, color = VIS_CONVEX_HULL_COLOR))\n",
    "        visConvexHullLinesStack.append(vis.add_line_segment((stack[-1], stack[-2]), color = VIS_CONVEX_HULL_COLOR))\n",
    "\n",
    "    for i in range(3, filteredPointsListLen):\n",
    "        currPoint = filteredPoints[i]\n",
    "\n",
    "        while orient(stack[-2], stack[-1], currPoint) != 1:\n",
    "            stack.pop()\n",
    "            vis.remove_figure(visConvexHullPointsStack.pop())\n",
    "            vis.remove_figure(visConvexHullLinesStack.pop())\n",
    "\n",
    "        stack.append(currPoint)\n",
    "        visConvexHullPointsStack.append(vis.add_point(currPoint, color = VIS_CONVEX_HULL_COLOR))\n",
    "        visConvexHullLinesStack.append(vis.add_line_segment((stack[-1], stack[-2]), color = VIS_CONVEX_HULL_COLOR))\n",
    "\n",
    "    vis.add_line_segment((stack[-1], minPoint), color = VIS_CONVEX_HULL_COLOR)\n",
    "\n",
    "    return stack, vis"
   ]
  },
  {
   "cell_type": "code",
   "execution_count": 274,
   "metadata": {},
   "outputs": [
    {
     "name": "stdout",
     "output_type": "stream",
     "text": [
      "convex hull:\n",
      "[(-81.64932184252287, -74.42163273030921), (-36.297317058417946, -72.91194239793609), (26.682887992598097, -65.55763984116587), (94.83039177581244, -55.52473300629532), (37.795092197502356, 57.71110085986143), (25.85862324263843, 62.49564419388622), (-46.24539555503924, 42.65521594922478), (-70.11654929355294, 16.723865705806816), (-77.92302295134137, -7.666110427206263)]\n"
     ]
    }
   ],
   "source": [
    "# TODO: remove\n",
    "# test = graham_algorithm([(3,2), (5,6), (4,4), (1,1)])\n",
    "# points = [(1,1), (2,2), (6,8), (3,3), (4,4), (-1,-1)]\n",
    "# points = [(1,1), (2,2), (3,3), (4,4), (-1,-1)]\n",
    "# points = [(0,0), (0, 5), (1, 2), (3, 7), (4, 2), (5, 0), (5,5)]\n",
    "points = [\n",
    "    (-62.781083483620016, 9.295526540248986),\n",
    "    (-10.543100198806997, -26.080520917553812),\n",
    "    (-81.64932184252287, -74.42163273030921),\n",
    "    (-36.297317058417946, -72.91194239793609),\n",
    "    (37.795092197502356, 57.71110085986143),\n",
    "    (62.511149567563905, -29.172821102708937),\n",
    "    (21.82806671019955, 2.647377124715007),\n",
    "    (-46.24539555503924, 42.65521594922478),\n",
    "    (-77.92302295134137, -7.666110427206263),\n",
    "    (25.85862324263843, 62.49564419388622),\n",
    "    (-27.71649622636616, -67.33453457840331),\n",
    "    (94.83039177581244, -55.52473300629532),\n",
    "    (-26.29675918891381, -51.30150933048958),\n",
    "    (-70.11654929355294, 16.723865705806816),\n",
    "    (26.682887992598097, -65.55763984116587),\n",
    "    (57.03377667841906, -55.56635171240132),\n",
    "    (-16.053624841650247, -42.333295668531456),\n",
    "    (-56.810858686395505, -37.41219002465095),\n",
    "    (15.604076302407279, -24.85779870929437),\n",
    "    (-71.77261869976445, -12.306083264402673),\n",
    "]\n",
    "convexHull, vis = graham_algorithm_draw(points)\n",
    "print(\"convex hull:\")\n",
    "print(convexHull)\n",
    "# vis.show_gif(interval = 200)\n",
    "# vis.add_point(points, color = [\"green\"])\n",
    "# vis.add_point(test, color = [\"red\"])\n",
    "# vis.show()\n",
    "# print(test)\n",
    "# test = graham_algorithm([(3,1), (0,0), (3,5), (5,0)])\n",
    "# test = graham_algorithm(points_a[10:])"
   ]
  },
  {
   "cell_type": "markdown",
   "metadata": {},
   "source": [
    "Zwizualizuj swoją implementację algorytmu."
   ]
  },
  {
   "cell_type": "markdown",
   "metadata": {},
   "source": [
    "Zbiór danych A"
   ]
  },
  {
   "cell_type": "code",
   "execution_count": 275,
   "metadata": {},
   "outputs": [],
   "source": [
    "graham_points_a, vis_graham_a = graham_algorithm_draw(points_a)"
   ]
  },
  {
   "cell_type": "code",
   "execution_count": 276,
   "metadata": {},
   "outputs": [],
   "source": [
    "# vis_graham_a.show_gif(interval=200)"
   ]
  },
  {
   "cell_type": "code",
   "execution_count": 277,
   "metadata": {},
   "outputs": [
    {
     "data": {
      "image/png": "[encoded data removed]",
      "text/plain": [
       "<Figure size 640x480 with 1 Axes>"
      ]
     },
     "metadata": {},
     "output_type": "display_data"
    }
   ],
   "source": [
    "visualise_hull(points_a, graham_points_a)"
   ]
  },
  {
   "cell_type": "markdown",
   "metadata": {},
   "source": [
    "Zbiór danych B"
   ]
  },
  {
   "cell_type": "code",
   "execution_count": 278,
   "metadata": {},
   "outputs": [],
   "source": [
    "graham_points_b, vis_graham_b = graham_algorithm_draw(points_b)"
   ]
  },
  {
   "cell_type": "code",
   "execution_count": 279,
   "metadata": {},
   "outputs": [],
   "source": [
    "# vis_graham_b.show_gif()"
   ]
  },
  {
   "cell_type": "code",
   "execution_count": 280,
   "metadata": {},
   "outputs": [
    {
     "data": {
      "image/png": "[encoded data removed]",
      "text/plain": [
       "<Figure size 640x480 with 1 Axes>"
      ]
     },
     "metadata": {},
     "output_type": "display_data"
    }
   ],
   "source": [
    "visualise_hull(points_b, graham_points_b)"
   ]
  },
  {
   "cell_type": "markdown",
   "metadata": {},
   "source": [
    "Zbiór danych C"
   ]
  },
  {
   "cell_type": "code",
   "execution_count": 281,
   "metadata": {},
   "outputs": [],
   "source": [
    "graham_points_c, vis_graham_c = graham_algorithm_draw(points_c)"
   ]
  },
  {
   "cell_type": "code",
   "execution_count": 282,
   "metadata": {},
   "outputs": [],
   "source": [
    "# vis_graham_c.show_gif()"
   ]
  },
  {
   "cell_type": "code",
   "execution_count": 283,
   "metadata": {},
   "outputs": [
    {
     "data": {
      "image/png": "[encoded data removed]",
      "text/plain": [
       "<Figure size 640x480 with 1 Axes>"
      ]
     },
     "metadata": {},
     "output_type": "display_data"
    }
   ],
   "source": [
    "# visualize(graham_points_c)\n",
    "# vis.clear()\n",
    "# vis.add_point(points_c)\n",
    "# vis.add_point(graham_points_c)\n",
    "# vis.add_line_segment([(graham_points_c[i], graham_points_c[i+1]) for i in range(len(graham_points_c)-1)], color = VIS_CONVEX_HULL_COLOR)\n",
    "# vis.add_line_segment([graham_points_c[-1], graham_points_c[0]], color = VIS_CONVEX_HULL_COLOR)\n",
    "# vis.show()\n",
    "visualise_hull(points_c, graham_points_c)"
   ]
  },
  {
   "cell_type": "markdown",
   "metadata": {},
   "source": [
    "Zbiór danych D"
   ]
  },
  {
   "cell_type": "code",
   "execution_count": 284,
   "metadata": {},
   "outputs": [],
   "source": [
    "graham_points_d, vis_graham_d = graham_algorithm_draw(points_d)"
   ]
  },
  {
   "cell_type": "code",
   "execution_count": 285,
   "metadata": {},
   "outputs": [],
   "source": [
    "# vis_graham_d.show_gif()"
   ]
  },
  {
   "cell_type": "code",
   "execution_count": 286,
   "metadata": {},
   "outputs": [
    {
     "data": {
      "image/png": "[encoded data removed]",
      "text/plain": [
       "<Figure size 640x480 with 1 Axes>"
      ]
     },
     "metadata": {},
     "output_type": "display_data"
    }
   ],
   "source": [
    "# visualize(graham_points_d)\n",
    "# vis.clear()\n",
    "# vis.add_point(points_d)\n",
    "# vis.add_line_segment([(graham_points_d[i], graham_points_d[i+1]) for i in range(len(graham_points_d)-1)])\n",
    "# vis.add_line_segment([graham_points_d[-1], graham_points_d[0]])\n",
    "# vis.show()\n",
    "visualise_hull(points_d, graham_points_d)"
   ]
  },
  {
   "cell_type": "markdown",
   "metadata": {},
   "source": [
    "### Algorytm Jarvisa"
   ]
  },
  {
   "cell_type": "markdown",
   "metadata": {},
   "source": [
    "Algorytm Jarvisa oblicza otoczkę wypukłą dla zbioru punktów $Q$ przez technikę zwaną owijaniem paczki (*package wrapping*) lub owijaniem prezentu (*gift wrapping*). Algorytm Jarvisa buduje sekwencję $H = \\langle p_1, p_2, \\dots, p_m \\rangle$ będącą wierzchołkami $\\mathcal{CH}(Q)$. Zaczynamy od punktu $p_0$, następny punkt $p_1$ w otoczce wypukłej ma najmniejszy kąt w odniesieniu do $p_0$ (w przypadku takiego samego kąta - wybiera się punkt najdalej od $p_0$). Podobnie, gdy $p_2$ ma najmniejszy kąt w odniesieniu do $p_1$, itd.. Zauważyć warto, że możemy tym sposobem obliczyć lewy i prawy łańcuch otoczki wypukłej $\\mathcal{CH}(Q)$. Lewy łańcuch buduje się podobnie. Gdy osiągniemy najwyższy wierzchołej w prawym łańcuchu $p_k$, wybieramy wierzchołek $p_{k+1}$, który ma najmniejszy kąt w odniesieniu do $p_k$, ale od ujemnej osi-$x$. Można zaimplementować algorytm Jarvisa bez konstruowania pomocniczych łańcuchów - lewego i prawego. Taka implementacja utrzymuje śledzenie kąta ostatniej strony otoczki wypukłej i wymaga sekwencji kątów boków otoczki tylko rosnącej. (Patrząc na trzy ostatnie punkty jesteśmy w stanie obliczyć jaki punkt należy włączyć do $\\mathcal{CH}(Q)$ w zależności od budowanego punktu)"
   ]
  },
  {
   "cell_type": "markdown",
   "metadata": {},
   "source": [
    "<span style=\"color:red\">Ćw.</span> Uzupełnij funkcję ```jarvis_algorithm```, która oblicza otoczkę wypukłą korzystając z algorytmu Jarvisa."
   ]
  },
  {
   "cell_type": "code",
   "execution_count": 295,
   "metadata": {},
   "outputs": [],
   "source": [
    "def jarvis_algorithm(Q):\n",
    "    '''\n",
    "    Funkcja buduje otoczkę wypukłą dla podanego\n",
    "    zbioru punktów Q algorymem Jarvisa\n",
    "    :parm Q: zbiór punktów\n",
    "    :return: tablica punktów w postaci krotek współrzędnych\n",
    "    '''\n",
    "\n",
    "    pointsSet = set(Q)\n",
    "\n",
    "    minPoint = find_point_with_min_y(Q)\n",
    "    hull = [minPoint]\n",
    "\n",
    "    # zostawiamy minimalny punkt, aby później spełnić warunek przerwania pętli\n",
    "    # pointsSet.remove(minPoint)\n",
    "\n",
    "    maxCos = -1             # największa wartość cosinusa daje najmniejszą wartość kąta\n",
    "    maxLenght = 0\n",
    "    nextPointInHull = None\n",
    "    xVersor = (1, 0)\n",
    "\n",
    "    # znalezienie drugiego punktu w otoczce\n",
    "    for point in pointsSet:\n",
    "        if point == minPoint:\n",
    "            continue\n",
    "        currentPointVector = get_vector(minPoint, point)\n",
    "        currentVectorLength = get_vector_length(currentPointVector)\n",
    "        currentPointCos = round(claculate_cos_of_angle(xVersor, currentPointVector), AFTER_DECIMAL_PRECISION)\n",
    "        if maxCos < currentPointCos or (maxCos == currentPointCos and maxLenght < currentVectorLength):\n",
    "            nextPointInHull = point\n",
    "            maxCos = currentPointCos\n",
    "            maxLenght = currentVectorLength\n",
    "\n",
    "    if nextPointInHull is None:\n",
    "        return hull\n",
    "\n",
    "    hull.append(nextPointInHull)\n",
    "    pointsSet.remove(nextPointInHull)\n",
    "\n",
    "    # znalezienie pozostałych punktów w otoczce\n",
    "    while True:\n",
    "        nextPointInHull = None\n",
    "        maxLenght = 0\n",
    "        maxCos = -1\n",
    "\n",
    "        oneBeforeLastInHull = hull[-2]\n",
    "        lastInHull = hull[-1]\n",
    "\n",
    "        for point in pointsSet:\n",
    "            hullVector = get_vector(oneBeforeLastInHull, lastInHull)\n",
    "\n",
    "            currentPointVector = get_vector(oneBeforeLastInHull, point)\n",
    "            currentVectorLength = get_vector_length(currentPointVector)\n",
    "\n",
    "            print(point)\n",
    "            print(hull)\n",
    "            currentPointCos = claculate_cos_of_angle(hullVector, currentPointVector)\n",
    "            print(currentPointCos)\n",
    "\n",
    "            if maxCos < currentPointCos or (maxCos == currentPointCos and maxLenght < currentVectorLength):\n",
    "                nextPointInHull = point\n",
    "                maxCos = currentPointCos\n",
    "                maxLenght = currentVectorLength\n",
    "\n",
    "        # sprawdzenie czy znaleziono wszystkie punkty w otoczce\n",
    "        if nextPointInHull == minPoint:\n",
    "            break\n",
    "        else:\n",
    "            hull.append(nextPointInHull)\n",
    "            pointsSet.remove(nextPointInHull)\n",
    "\n",
    "    return hull"
   ]
  },
  {
   "cell_type": "code",
   "execution_count": 296,
   "metadata": {},
   "outputs": [
    {
     "name": "stdout",
     "output_type": "stream",
     "text": [
      "(4, 4)\n",
      "[(1, 1), (3, 2)]\n",
      "0.9486832980505138\n",
      "(5, 6)\n",
      "[(1, 1), (3, 2)]\n",
      "0.9079593845004517\n",
      "(1, 1)\n",
      "[(1, 1), (3, 2)]\n"
     ]
    },
    {
     "ename": "ZeroDivisionError",
     "evalue": "float division by zero",
     "output_type": "error",
     "traceback": [
      "\u001b[0;31m---------------------------------------------------------------------------\u001b[0m",
      "\u001b[0;31mZeroDivisionError\u001b[0m                         Traceback (most recent call last)",
      "Cell \u001b[0;32mIn[296], line 3\u001b[0m\n\u001b[1;32m      1\u001b[0m \u001b[38;5;66;03m# TODO: remove\u001b[39;00m\n\u001b[0;32m----> 3\u001b[0m test \u001b[38;5;241m=\u001b[39m \u001b[43mjarvis_algorithm\u001b[49m\u001b[43m(\u001b[49m\u001b[43m[\u001b[49m\u001b[43m(\u001b[49m\u001b[38;5;241;43m3\u001b[39;49m\u001b[43m,\u001b[49m\u001b[38;5;241;43m2\u001b[39;49m\u001b[43m)\u001b[49m\u001b[43m,\u001b[49m\u001b[43m \u001b[49m\u001b[43m(\u001b[49m\u001b[38;5;241;43m5\u001b[39;49m\u001b[43m,\u001b[49m\u001b[38;5;241;43m6\u001b[39;49m\u001b[43m)\u001b[49m\u001b[43m,\u001b[49m\u001b[43m \u001b[49m\u001b[43m(\u001b[49m\u001b[38;5;241;43m4\u001b[39;49m\u001b[43m,\u001b[49m\u001b[38;5;241;43m4\u001b[39;49m\u001b[43m)\u001b[49m\u001b[43m,\u001b[49m\u001b[43m \u001b[49m\u001b[43m(\u001b[49m\u001b[38;5;241;43m1\u001b[39;49m\u001b[43m,\u001b[49m\u001b[38;5;241;43m1\u001b[39;49m\u001b[43m)\u001b[49m\u001b[43m]\u001b[49m\u001b[43m)\u001b[49m\n\u001b[1;32m      4\u001b[0m \u001b[38;5;66;03m# points = [(1,1), (2,2), (6,8), (3,3), (4,4), (-1,-1)]\u001b[39;00m\n\u001b[1;32m      5\u001b[0m \u001b[38;5;66;03m# points = [(1,1), (2,2), (3,3), (4,4), (-1,-1)]\u001b[39;00m\n\u001b[1;32m      6\u001b[0m \u001b[38;5;66;03m# points = [(0,0), (0, 5), (1, 2), (3, 7), (4, 2), (5, 0), (5,5)]\u001b[39;00m\n\u001b[0;32m   (...)\u001b[0m\n\u001b[1;32m     13\u001b[0m \u001b[38;5;66;03m# test = jarvis_algorithm(points_c_sorted[:5] + points_c_sorted[35:40]  + points_c_sorted[75:80])\u001b[39;00m\n\u001b[1;32m     14\u001b[0m \u001b[38;5;66;03m# print(points_c_sorted)\u001b[39;00m\n\u001b[1;32m     15\u001b[0m \u001b[38;5;28mprint\u001b[39m(test)\n",
      "Cell \u001b[0;32mIn[295], line 57\u001b[0m, in \u001b[0;36mjarvis_algorithm\u001b[0;34m(Q)\u001b[0m\n\u001b[1;32m     55\u001b[0m \u001b[38;5;28mprint\u001b[39m(point)\n\u001b[1;32m     56\u001b[0m \u001b[38;5;28mprint\u001b[39m(hull)\n\u001b[0;32m---> 57\u001b[0m currentPointCos \u001b[38;5;241m=\u001b[39m \u001b[43mclaculate_cos_of_angle\u001b[49m\u001b[43m(\u001b[49m\u001b[43mhullVector\u001b[49m\u001b[43m,\u001b[49m\u001b[43m \u001b[49m\u001b[43mcurrentPointVector\u001b[49m\u001b[43m)\u001b[49m\n\u001b[1;32m     58\u001b[0m \u001b[38;5;28mprint\u001b[39m(currentPointCos)\n\u001b[1;32m     60\u001b[0m \u001b[38;5;28;01mif\u001b[39;00m maxCos \u001b[38;5;241m<\u001b[39m currentPointCos \u001b[38;5;129;01mor\u001b[39;00m (maxCos \u001b[38;5;241m==\u001b[39m currentPointCos \u001b[38;5;129;01mand\u001b[39;00m maxLenght \u001b[38;5;241m<\u001b[39m currentVectorLength):\n",
      "Cell \u001b[0;32mIn[267], line 2\u001b[0m, in \u001b[0;36mclaculate_cos_of_angle\u001b[0;34m(vec1, vec2)\u001b[0m\n\u001b[1;32m      1\u001b[0m \u001b[38;5;28;01mdef\u001b[39;00m \u001b[38;5;21mclaculate_cos_of_angle\u001b[39m(vec1, vec2):\n\u001b[0;32m----> 2\u001b[0m     \u001b[38;5;28;01mreturn\u001b[39;00m \u001b[43mdot_product\u001b[49m\u001b[43m(\u001b[49m\u001b[43mvec1\u001b[49m\u001b[43m,\u001b[49m\u001b[43m \u001b[49m\u001b[43mvec2\u001b[49m\u001b[43m)\u001b[49m\u001b[43m \u001b[49m\u001b[38;5;241;43m/\u001b[39;49m\u001b[43m \u001b[49m\u001b[43m(\u001b[49m\u001b[43mget_vector_length\u001b[49m\u001b[43m(\u001b[49m\u001b[43mvec1\u001b[49m\u001b[43m)\u001b[49m\u001b[43m \u001b[49m\u001b[38;5;241;43m*\u001b[39;49m\u001b[43m \u001b[49m\u001b[43mget_vector_length\u001b[49m\u001b[43m(\u001b[49m\u001b[43mvec2\u001b[49m\u001b[43m)\u001b[49m\u001b[43m)\u001b[49m\n",
      "\u001b[0;31mZeroDivisionError\u001b[0m: float division by zero"
     ]
    }
   ],
   "source": [
    "# TODO: remove\n",
    "\n",
    "test = jarvis_algorithm([(3,2), (5,6), (4,4), (1,1)])\n",
    "# points = [(1,1), (2,2), (6,8), (3,3), (4,4), (-1,-1)]\n",
    "# points = [(1,1), (2,2), (3,3), (4,4), (-1,-1)]\n",
    "# points = [(0,0), (0, 5), (1, 2), (3, 7), (4, 2), (5, 0), (5,5)]\n",
    "# points = [(1.0, 1.0), (4.0, 1.0), (4.0, 4.0), (1.0, 4.0)]\n",
    "# points = [(1.0, 1.0), (2.0, 2.0), (50.0, 50.0), (99.0, 99.0), (100.0, 100.0)]\n",
    "# points = [(1.0, 1.0), (5.0, 0.0), (5.0, 1.0), (5.0, 2.0), (5.0, 3.0), (5.0, 4.0), (5.0, 5.0), (5.0, 6.0)]\n",
    "# points_c_sorted = sorted(points_c, key= lambda x: x[1])\n",
    "# points_c_sorted = points_c\n",
    "# test = jarvis_algorithm(points_c_sorted)\n",
    "# test = jarvis_algorithm(points_c_sorted[:5] + points_c_sorted[35:40]  + points_c_sorted[75:80])\n",
    "# print(points_c_sorted)\n",
    "print(test)\n",
    "print(len(test))"
   ]
  },
  {
   "cell_type": "markdown",
   "metadata": {},
   "source": [
    "Przetestuj swoją implementacje algorytmu Jarvisa, by sprawdzić czy poprawnie obliczana jest otoczka."
   ]
  },
  {
   "cell_type": "code",
   "execution_count": null,
   "metadata": {},
   "outputs": [],
   "source": [
    "Test().runtest(2, jarvis_algorithm)"
   ]
  },
  {
   "cell_type": "markdown",
   "metadata": {},
   "source": [
    "<span style=\"color:red\">Ćw.</span> Uzupełnij funkcję ```jarvis_algorithm_draw```, która oblicza otoczkę wypukłą korzystając z algorytmu Jarvisa z dodatkową opcją wyświetlania kroków algorytmu."
   ]
  },
  {
   "cell_type": "code",
   "execution_count": null,
   "metadata": {},
   "outputs": [],
   "source": [
    "def jarvis_algorithm_draw(Q):\n",
    "    '''\n",
    "    Funkcja buduje otoczkę wypukłą dla podanego\n",
    "    zbioru punktów Q algorymem Jarvisa oraz\n",
    "    pokazuje poszczególne kroki algorymu\n",
    "    :parm Q: zbiór punktów\n",
    "    :return: krotka w postaci  (tablica punktów w postaci krotek współrzędnych,\n",
    "                                wizualizer pokazujący kroki algorytmu)\n",
    "    '''\n",
    "    raise Exception(\"Unimplemented\")"
   ]
  },
  {
   "cell_type": "markdown",
   "metadata": {},
   "source": [
    "Zwizualizuj swoją implementację algorytmu."
   ]
  },
  {
   "cell_type": "markdown",
   "metadata": {},
   "source": [
    "Zbiór danych A"
   ]
  },
  {
   "cell_type": "code",
   "execution_count": null,
   "metadata": {},
   "outputs": [],
   "source": [
    "jarvis_points_a, vis_jarvis_a = jarvis_algorithm_draw(points_a)"
   ]
  },
  {
   "cell_type": "code",
   "execution_count": null,
   "metadata": {},
   "outputs": [],
   "source": [
    "vis_jarvis_a.show_gif()"
   ]
  },
  {
   "cell_type": "code",
   "execution_count": null,
   "metadata": {},
   "outputs": [],
   "source": [
    "# visualize(jarvis_points_a)\n",
    "vis.clear()\n",
    "vis.add_point(points_a)\n",
    "vis.add_line_segment([(jarvis_points_a[i], jarvis_points_a[i+1]) for i in range(len(jarvis_points_a)-1)])\n",
    "vis.add_line_segment([jarvis_points_a[-1], jarvis_points_a[0]])\n",
    "vis.show()"
   ]
  },
  {
   "cell_type": "markdown",
   "metadata": {},
   "source": [
    "Zbiór danych B"
   ]
  },
  {
   "cell_type": "code",
   "execution_count": null,
   "metadata": {},
   "outputs": [],
   "source": [
    "jarvis_points_b, vis_jarvis_b = jarvis_algorithm_draw(points_b)"
   ]
  },
  {
   "cell_type": "code",
   "execution_count": null,
   "metadata": {},
   "outputs": [],
   "source": [
    "vis_jarvis_b.show_gif()"
   ]
  },
  {
   "cell_type": "code",
   "execution_count": null,
   "metadata": {},
   "outputs": [],
   "source": [
    "# visualize(jarvis_points_b)\n",
    "vis.clear()\n",
    "vis.add_point(points_b)\n",
    "vis.add_line_segment([(jarvis_points_b[i], jarvis_points_b[i+1]) for i in range(len(jarvis_points_b)-1)])\n",
    "vis.add_line_segment([jarvis_points_b[-1], jarvis_points_b[0]])\n",
    "vis.show()"
   ]
  },
  {
   "cell_type": "markdown",
   "metadata": {},
   "source": [
    "Zbiór danych C"
   ]
  },
  {
   "cell_type": "code",
   "execution_count": null,
   "metadata": {},
   "outputs": [],
   "source": [
    "jarvis_points_c, vis_jarvis_c = jarvis_algorithm_draw(points_c)"
   ]
  },
  {
   "cell_type": "code",
   "execution_count": null,
   "metadata": {},
   "outputs": [],
   "source": [
    "vis_jarvis_c.show_gif()"
   ]
  },
  {
   "cell_type": "code",
   "execution_count": null,
   "metadata": {},
   "outputs": [],
   "source": [
    "# visualize(jarvis_points_c)\n",
    "vis.clear()\n",
    "vis.add_point(points_c)\n",
    "vis.add_line_segment([(jarvis_points_c[i], jarvis_points_c[i+1]) for i in range(len(jarvis_points_c)-1)])\n",
    "vis.add_line_segment([jarvis_points_c[-1], jarvis_points_c[0]])\n",
    "vis.show()"
   ]
  },
  {
   "cell_type": "markdown",
   "metadata": {},
   "source": [
    "Zbiór danych D"
   ]
  },
  {
   "cell_type": "code",
   "execution_count": null,
   "metadata": {},
   "outputs": [],
   "source": [
    "jarvis_points_d, vis_jarvis_d = jarvis_algorithm_draw(points_d)"
   ]
  },
  {
   "cell_type": "code",
   "execution_count": null,
   "metadata": {},
   "outputs": [],
   "source": [
    "vis_jarvis_d.show_gif()"
   ]
  },
  {
   "cell_type": "code",
   "execution_count": null,
   "metadata": {},
   "outputs": [],
   "source": [
    "# visualize(jarvis_points_d)\n",
    "vis.clear()\n",
    "vis.add_point(points_d)\n",
    "vis.add_line_segment([(jarvis_points_d[i], jarvis_points_d[i+1]) for i in range(len(jarvis_points_d)-1)])\n",
    "vis.add_line_segment([jarvis_points_d[-1], jarvis_points_d[0]])\n",
    "vis.show()"
   ]
  },
  {
   "cell_type": "markdown",
   "metadata": {},
   "source": [
    "\n",
    "---\n",
    "\n",
    "Po zobaczeniu i przetestowaniu wstępnie zbiorów danych, przyszła kolej na porównanie czasów działania dla różnych danych. Do tego potrzebujemy bardziej miarodajnych zbiorów danych.  \n",
    "<span style=\"color:red\">Ćw.</span> Stwórz zmodyfikowane zbiory danych A, B, C oraz D - tak jak uważasz za słuszne."
   ]
  },
  {
   "cell_type": "code",
   "execution_count": null,
   "metadata": {},
   "outputs": [],
   "source": [
    "# prepare your data to time-test"
   ]
  },
  {
   "cell_type": "markdown",
   "metadata": {},
   "source": [
    "Po przygotowaniu zbioru danych, dokonaj porównania czasowego  \n",
    "<span style=\"color:red\">Ćw.</span> Porównaj zmodyfikowane zbiory danych A, B, C oraz D dla algorytmów Grahama i Jarvisa."
   ]
  },
  {
   "cell_type": "code",
   "execution_count": null,
   "metadata": {},
   "outputs": [],
   "source": [
    "# compare your sets of data"
   ]
  },
  {
   "cell_type": "markdown",
   "metadata": {},
   "source": [
    "WNIOSKI HERE  \n",
    "W sprawozdaniu napisz, czy Twój program działał poprawnie dla wszystkich zbiorów\n",
    "danych oraz opisz krótko wnioski dotyczące działania algorytmu dla poszczególnych\n",
    "zbiorów. Napisz, dlaczego wg Ciebie zaproponowano takie zbiory punktów? Które ze\n",
    "zbiorów mogły stwarzać problemy w działaniu algorytmów? Jeśli tak, to jakie i\n",
    "dlaczego? Porównaj czasy działania obu algorytmów w zależności od liczby punktów\n",
    "w poszczególnych zbiorach (A, B, C, D). Dołącz wybrane, istotne ilustracje."
   ]
  },
  {
   "cell_type": "markdown",
   "metadata": {},
   "source": [
    "Bibliografia:\n",
    "- Wprowadzenie do algorytmów wydanie 3, Thomas H. Cormen, Charles E. Leiserson, Ronald L. Rivest, Stein Clifford\n"
   ]
  }
 ],
 "metadata": {
  "kernelspec": {
   "display_name": "bit-algo-vis-tool",
   "language": "python",
   "name": "python3"
  },
  "language_info": {
   "codemirror_mode": {
    "name": "ipython",
    "version": 3
   },
   "file_extension": ".py",
   "mimetype": "text/x-python",
   "name": "python",
   "nbconvert_exporter": "python",
   "pygments_lexer": "ipython3",
   "version": "3.9.20"
  },
  "orig_nbformat": 4
 },
 "nbformat": 4,
 "nbformat_minor": 2
}
